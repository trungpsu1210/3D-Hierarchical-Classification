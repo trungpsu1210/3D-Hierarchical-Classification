{
  "nbformat": 4,
  "nbformat_minor": 0,
  "metadata": {
    "colab": {
      "name": "Visualization.ipynb",
      "provenance": [],
      "collapsed_sections": []
    },
    "kernelspec": {
      "name": "python3",
      "display_name": "Python 3"
    },
    "language_info": {
      "name": "python"
    }
  },
  "cells": [
    {
      "cell_type": "markdown",
      "source": [
        "Install Latex font"
      ],
      "metadata": {
        "id": "tst4ClOjZT7S"
      }
    },
    {
      "cell_type": "code",
      "execution_count": null,
      "metadata": {
        "id": "UYYhwopyZMue"
      },
      "outputs": [],
      "source": [
        "!apt install texlive-fonts-recommended texlive-fonts-extra cm-super dvipng"
      ]
    },
    {
      "cell_type": "markdown",
      "source": [
        "Draw the Line chart"
      ],
      "metadata": {
        "id": "QJ2X5JK2bjyE"
      }
    },
    {
      "cell_type": "code",
      "source": [
        "import numpy as np\n",
        "import math, os\n",
        "from numpy import *\n",
        "import matplotlib.pyplot as plt\n",
        "import matplotlib\n",
        "import pandas as pd\n",
        "!apt install texlive-fonts-recommended texlive-fonts-extra cm-super dvipng\n",
        "\n",
        "plt.rcParams['font.serif'] = \"CMU Serif\"\n",
        "plt.rcParams['font.family'] = \"serif\"\n",
        "plt.rcParams['mathtext.fontset'] = 'cm'\n",
        "plt.rcParams['axes.unicode_minus'] = False\n",
        "plt.rcParams['font.size'] = 16\n",
        "plt.rcParams['legend.fontsize'] = 16\n",
        "plt.rcParams['axes.labelsize'] = 16\n",
        "plt.rcParams['axes.titlesize'] = 20\n",
        "plt.rcParams['ytick.labelsize'] = 'small'\n",
        "plt.rcParams['xtick.labelsize'] = 'small'\n",
        "plt.rcParams['savefig.dpi'] = 1000\n",
        "\n",
        "fig=plt.figure(figsize=(7,7))\n",
        "plt.style.context('dark_background')\n",
        "legend = ['Ensemble', 'BiConvLSTM', 'SOTA 2-D', 'SOTA 3-D']\n",
        "\n",
        "X = [15, 70]\n",
        "Y = [0.6, 0.7, 0.8, 0.9, 1.0]\n",
        "Ensemble = [0.890, 0.974]\n",
        "BiConvLSTM = [0.929, 1.000]\n",
        "ConvLSTM = [0.887, 1.000]\n",
        "NoLSTM = [0.892, 0.974]\n",
        "threeDCNN = [0.738, 0.960]\n",
        "\n",
        "plt.plot(X, Ensemble, marker = 'o', color = '#d7191c', linewidth=2, markersize=8)\n",
        "plt.plot(X, BiConvLSTM, marker = 's', color = '#377eb8', linewidth=2, markersize=8)\n",
        "plt.plot(X, ConvLSTM, marker = '^', color = '#fdc086', linewidth=2, markersize=8)\n",
        "plt.plot(X, NoLSTM, marker = '^', color = '#1a9641', linewidth=2, markersize=8)\n",
        "plt.plot(X, threeDCNN, marker = 'D', color = '#984ea3', linewidth=2, markersize=8)\n",
        "\n",
        "plt.ylabel('AUCPR', labelpad = 10)\n",
        "plt.xlabel('Percentage of Training Data (%)', labelpad = 10)\n",
        "plt.grid(axis='both', zorder = 0, color='0.8')\n",
        "plt.ylim(0.64, 1.01)\n",
        "plt.xticks(X)\n",
        "plt.legend(legend, bbox_to_anchor=(0.83, 0.385))\n",
        "plt.margins(0.09)\n",
        "plt.tight_layout()\n",
        "plt.savefig('Line_chart_AUCPR.png', dpi = 600)\n",
        "plt.show()"
      ],
      "metadata": {
        "id": "a1j8Bu8ubmtS"
      },
      "execution_count": null,
      "outputs": []
    },
    {
      "cell_type": "markdown",
      "source": [
        "Draw the Bar chart"
      ],
      "metadata": {
        "id": "c83JG9bbbwMr"
      }
    },
    {
      "cell_type": "code",
      "source": [
        "import numpy as np\n",
        "import math, os\n",
        "from numpy import *\n",
        "import matplotlib.pyplot as plt\n",
        "import matplotlib\n",
        "!apt install texlive-fonts-recommended texlive-fonts-extra cm-super dvipng\n",
        "\n",
        "plt.rcParams['font.serif'] = \"CMU Serif\"\n",
        "plt.rcParams['font.family'] = \"serif\"\n",
        "plt.rcParams['mathtext.fontset'] = 'cm'\n",
        "plt.rcParams['axes.unicode_minus'] = False\n",
        "plt.rcParams['font.size'] = 16\n",
        "plt.rcParams['legend.fontsize'] = 16\n",
        "plt.rcParams['axes.labelsize'] = 20\n",
        "plt.rcParams['axes.titlesize'] = 20\n",
        "plt.rcParams['ytick.labelsize'] = 'large'\n",
        "plt.rcParams['xtick.labelsize'] = 'large'\n",
        "plt.rcParams['savefig.dpi'] = 1000\n",
        "\n",
        "fig=plt.figure(figsize=(11,9))\n",
        "plt.style.context('dark_background')\n",
        "legend = ['Bi-Conv-LSTM', '3D-CNN', 'Multi-slice', 'Separately train', 'Jointly train']\n",
        "X = [10, 90]\n",
        "Xtick = ['Low training', 'High training']\n",
        "ThreeDCNN = [54.891, 81.160]\n",
        "BiConvLSTM = [70.652, 86.232]\n",
        "MultiSlice = [86.775, 94.203]\n",
        "Separate = [82.247, 89.855]\n",
        "Joint = [90.036, 97.826]\n",
        "\n",
        "Position_3DCNN=[1, 2]\n",
        "Position_BiConv=[ i+0.1 for i in Position_3DCNN]\n",
        "Position_MS=[ i+0.1 for i in Position_BiConv]\n",
        "Position_Separate=[ i+0.1 for i in Position_MS]\n",
        "Position_Joint=[ i+0.1 for i in Position_Separate]\n",
        "\n",
        "graph_BiConv=plt.bar(Position_3DCNN, ThreeDCNN,color='#1a9641',label='3D-CNN',width=0.1, zorder=3)\n",
        "graph_BiConv=plt.bar(Position_BiConv, BiConvLSTM,color='#404040',label='Bi-Conv-LSTM',width=0.1, zorder=3)\n",
        "graph_BiConv=plt.bar(Position_MS, MultiSlice,color='#fdae61',label='Multi-slice',width=0.1, zorder=3)\n",
        "graph_BiConv=plt.bar(Position_Separate, Separate,color='#2c7bb6',label='Separately train',width=0.1, zorder=3)\n",
        "graph_BiConv=plt.bar(Position_Joint, Joint,color='#d7191c',label='Jointly train',width=0.1, zorder=3)\n",
        "\n",
        "plt.xticks([i+0.1 for i in Position_BiConv],Xtick)\n",
        "plt.xlabel('Scenario', labelpad = 10)\n",
        "plt.ylabel('Accuracy (%)', labelpad = 10)\n",
        "plt.grid(axis='both', zorder = 0, color='0.8')\n",
        "plt.ylim(27, 105)\n",
        "plt.legend(loc = 'lower center')\n",
        "plt.tight_layout()\n",
        "plt.savefig('Bar_Chart_Accuracy.png', dpi = 1000)\n",
        "plt.show()"
      ],
      "metadata": {
        "id": "pw8SN9InbziL"
      },
      "execution_count": null,
      "outputs": []
    },
    {
      "cell_type": "markdown",
      "source": [
        "Confusion Matrix"
      ],
      "metadata": {
        "id": "JQLdCSr_cCtj"
      }
    },
    {
      "cell_type": "code",
      "source": [
        "import itertools\n",
        "!apt install texlive-fonts-recommended texlive-fonts-extra cm-super dvipng\n",
        "\n",
        "def Draw_confusion_matrix(cm, target_names, name, cmap='Greys', normalize=False, path = 0):\n",
        "    plt.rcParams['font.serif'] = \"CMU Serif\"\n",
        "    plt.rcParams['font.family'] = \"serif\"\n",
        "    plt.rcParams['mathtext.fontset'] = 'cm'\n",
        "    plt.rcParams['axes.unicode_minus'] = False\n",
        "    plt.rcParams['font.size'] = 28\n",
        "    plt.rcParams['legend.fontsize'] = 28\n",
        "    plt.rcParams['axes.labelsize'] = 28\n",
        "    plt.rcParams['axes.titlesize'] = 32\n",
        "    plt.rcParams['ytick.labelsize'] = 'small'\n",
        "    plt.rcParams['xtick.labelsize'] = 'small'\n",
        "    plt.rcParams['savefig.dpi'] = 600\n",
        "    if cmap is None:\n",
        "        cmap = plt.get_cmap('Blues')\n",
        "\n",
        "    plt.figure(figsize=(8, 6))\n",
        "    plt.imshow(cm, interpolation='nearest', cmap=cmap)\n",
        "    plt.colorbar()\n",
        "    plt.clim(0.0,1.0)\n",
        "    if target_names is not None:\n",
        "        tick_marks = np.arange(len(target_names))\n",
        "        plt.xticks(tick_marks, target_names, rotation=45)\n",
        "        plt.yticks(tick_marks, target_names, rotation =0)\n",
        "\n",
        "    if normalize:\n",
        "        cm = cm.astype('float') / cm.sum(axis=1)[:, np.newaxis]\n",
        "\n",
        "    thresh = cm.max() / 1.5 if normalize else cm.max() / 2\n",
        "    for i, j in itertools.product(range(cm.shape[0]), range(cm.shape[1])):\n",
        "        if normalize:\n",
        "            plt.text(j, i, \"{:0.3f}\".format(cm[i, j]),\n",
        "                     horizontalalignment=\"center\",\n",
        "                     color=\"white\" if cm[i, j] > thresh else \"black\")\n",
        "        else:\n",
        "            plt.text(j, i, \"{:0.3f}\".format(cm[i, j]),\n",
        "                     horizontalalignment=\"center\",\n",
        "                     color=\"white\" if cm[i, j] > thresh else \"black\")\n",
        "\n",
        "    plt.tight_layout()\n",
        "    plt.ylabel('True label')\n",
        "    plt.xlabel('Predicted label')\n",
        "    plt.savefig(name, bbox_inches='tight', dpi = 300)\n",
        "    plt.show()\n",
        "    plt.close()"
      ],
      "metadata": {
        "id": "5rKdFP92cEfM"
      },
      "execution_count": null,
      "outputs": []
    },
    {
      "cell_type": "code",
      "source": [
        "import sklearn\n",
        "from sklearn import metrics\n",
        "import itertools\n",
        "import numpy as np\n",
        "import math, os\n",
        "from numpy import *\n",
        "import matplotlib.pyplot as plt\n",
        "import matplotlib\n",
        "import pandas as pd\n",
        "\n",
        "cm = array([[0.82758621, 0.        , 0.17241379],\n",
        "            [0.84242424, 0.        , 0.15757576],\n",
        "            [0.25352113, 0.        , 0.76056338]])\n",
        "\n",
        "matplotlib.rcParams['font.size'] = 28\n",
        "matplotlib.rcParams['legend.fontsize'] = 28\n",
        "matplotlib.rcParams['axes.labelsize'] = 28\n",
        "matplotlib.rcParams['axes.titlesize'] = 32\n",
        "matplotlib.rcParams['ytick.labelsize'] = 'large'\n",
        "matplotlib.rcParams['xtick.labelsize'] = 'large'\n",
        "plt.rcParams['font.serif'] = \"CMU Serif\"\n",
        "plt.rcParams['font.family'] = \"serif\"\n",
        "plt.rcParams['mathtext.fontset'] = 'cm'\n",
        "plt.rcParams['axes.unicode_minus'] = False\n",
        "Draw_confusion_matrix(cm=cm, target_names=['Munition', 'Shotput', 'Steel_Alu'],name = 'ConfusionMatrix_ST_LT_3DCNN.png', normalize=False)\n",
        "plt.tight_layout(pad = 0)\n",
        "plt.close('all')"
      ],
      "metadata": {
        "id": "18km_P8UcKLt"
      },
      "execution_count": null,
      "outputs": []
    }
  ]
}